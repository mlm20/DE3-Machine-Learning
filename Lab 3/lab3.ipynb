{
 "cells": [
  {
   "cell_type": "code",
   "execution_count": 4,
   "metadata": {},
   "outputs": [],
   "source": [
    "# Imports\n",
    "import torch\n",
    "from torchvision import transforms, datasets\n",
    "import torch.nn as nn\n",
    "import torch.nn.functional as F\n",
    "import torch.optim as optim"
   ]
  },
  {
   "cell_type": "code",
   "execution_count": 5,
   "metadata": {},
   "outputs": [],
   "source": [
    "# Download dataset\n",
    "train = datasets.MNIST(\"\", train=True, download=True, transform=transforms.Compose([transforms.ToTensor()]))\n",
    "test = datasets.MNIST(\"\", train=False, download=True, transform=transforms.Compose([transforms.ToTensor()]))\n",
    "\n",
    "trainset = torch.utils.data.DataLoader(train, batch_size=10, shuffle=True)\n",
    "testset = torch.utils.data.DataLoader(test, batch_size=10, shuffle=True)"
   ]
  },
  {
   "cell_type": "code",
   "execution_count": 7,
   "metadata": {},
   "outputs": [],
   "source": [
    "# Create PyTorch module\n",
    "#\n",
    "# Neural network architecture is defined in the __init__ method\n",
    "# nn.Linear applies an affine  transformation to the input (w.T*x + b)\n",
    "class Net(nn.Module):\n",
    "    \n",
    "    # Create network layers\n",
    "    def __init__(self):\n",
    "        super().__init__()\n",
    "        \n",
    "        # Create input layer, with 64 neurons and 784 inputs each\n",
    "        self.fc1 = nn.Linear(28 * 28, 64)\n",
    "        \n",
    "        # Create layer #2, 64 inputs & 64 outputs\n",
    "        self.fc2 = nn.Linear(64, 64)\n",
    "        \n",
    "        # Create layer #3, 64 inputs & 64 outputs\n",
    "        self.fc3 = nn.Linear(64, 64)\n",
    "        \n",
    "        # Create output layer, 64 inputs & 10 outputs (since there are 10 possible digits)\n",
    "        self.fc4 = nn.Linear(64, 10)\n",
    "    \n",
    "    # Computing the output of the network\n",
    "    def forward(self, x):\n",
    "        # Compute the sigmoid function of a given network\n",
    "        x = torch.sigmoid(self.fc1(x))\n",
    "        x = torch.sigmoid(self.fc2(x))\n",
    "        x = torch.sigmoid(self.fc3(x))\n",
    "        x = self.fc4(x)\n",
    "        \n",
    "        # Compute the softmax functon of a given input\n",
    "        return F.softmax(x, dim=1)\n",
    "        \n",
    "net = Net()"
   ]
  },
  {
   "cell_type": "code",
   "execution_count": null,
   "metadata": {},
   "outputs": [],
   "source": [
    "# Setup the optimiser and train the network\n",
    "optimiser = optim.SGD(net.parameters(), lr=0.001)\n",
    "\n",
    "Epochs = 3\n",
    "\n",
    "for epoch in range(Epochs):\n",
    "    for data in trainset:\n",
    "        X, y = data\n",
    "        net.zero_grad()\n",
    "        output = net.forward(X.view(-1, 28*28))\n",
    "        loss = F.nll_loss(output, y)\n",
    "        loss.backward()\n",
    "        optimiser.step()"
   ]
  },
  {
   "cell_type": "code",
   "execution_count": null,
   "metadata": {},
   "outputs": [],
   "source": [
    "# Initialise counters\n",
    "correct = 0\n",
    "total = 0\n",
    "\n",
    "# Test the model\n",
    "with torch.no_grad():\n",
    "    for data in testset:\n",
    "        X, y = data\n",
    "        output = net.forward(X.view(-1, 28*28))\n",
    "        for idx, i in enumerate(output):\n",
    "            if torch.argmax(i) == y[idx]:\n",
    "                correct += 1\n",
    "            total += 1\n",
    "\n",
    "# Print result\n",
    "print(\"accuracy: \", round(correct/total, 3))"
   ]
  }
 ],
 "metadata": {
  "kernelspec": {
   "display_name": "Python 3",
   "language": "python",
   "name": "python3"
  },
  "language_info": {
   "codemirror_mode": {
    "name": "ipython",
    "version": 3
   },
   "file_extension": ".py",
   "mimetype": "text/x-python",
   "name": "python",
   "nbconvert_exporter": "python",
   "pygments_lexer": "ipython3",
   "version": "3.9.13"
  },
  "orig_nbformat": 4
 },
 "nbformat": 4,
 "nbformat_minor": 2
}
