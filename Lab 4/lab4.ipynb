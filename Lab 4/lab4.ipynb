{
 "cells": [
  {
   "cell_type": "code",
   "execution_count": 11,
   "metadata": {},
   "outputs": [],
   "source": [
    "# Imports\n",
    "import torch\n",
    "from torchvision import transforms, datasets\n",
    "import torch.nn as nn\n",
    "import torch.nn.functional as F\n",
    "import torch.optim as optim\n"
   ]
  },
  {
   "cell_type": "code",
   "execution_count": 12,
   "metadata": {},
   "outputs": [],
   "source": [
    "# Train and test data\n",
    "train = datasets.MNIST(\"\", train=True, download=True,\n",
    "                       transform=transforms.Compose([transforms.ToTensor()]))\n",
    "test = datasets.MNIST(\"\", train=False, download=True,\n",
    "                      transform=transforms.Compose([transforms.ToTensor()]))\n",
    "\n",
    "trainset = torch.utils.data.DataLoader(train, batch_size=10, shuffle=True)\n",
    "testset = torch.utils.data.DataLoader(test, batch_size=10, shuffle=True)\n"
   ]
  },
  {
   "cell_type": "code",
   "execution_count": 1,
   "metadata": {},
   "outputs": [
    {
     "ename": "NameError",
     "evalue": "name 'nn' is not defined",
     "output_type": "error",
     "traceback": [
      "\u001b[1;31m---------------------------------------------------------------------------\u001b[0m",
      "\u001b[1;31mNameError\u001b[0m                                 Traceback (most recent call last)",
      "Cell \u001b[1;32mIn[1], line 5\u001b[0m\n\u001b[0;32m      1\u001b[0m \u001b[39m# Create PyTorch module\u001b[39;00m\n\u001b[0;32m      2\u001b[0m \u001b[39m#\u001b[39;00m\n\u001b[0;32m      3\u001b[0m \u001b[39m# Neural network architecture is defined in the __init__ method\u001b[39;00m\n\u001b[0;32m      4\u001b[0m \u001b[39m# nn.Linear applies an affine  transformation to the input (w.T*x + b)\u001b[39;00m\n\u001b[1;32m----> 5\u001b[0m \u001b[39mclass\u001b[39;00m \u001b[39mNet\u001b[39;00m(nn\u001b[39m.\u001b[39mModule):\n\u001b[0;32m      6\u001b[0m \n\u001b[0;32m      7\u001b[0m     \u001b[39m# Create network layers\u001b[39;00m\n\u001b[0;32m      8\u001b[0m     \u001b[39mdef\u001b[39;00m \u001b[39m__init__\u001b[39m(\u001b[39mself\u001b[39m):\n\u001b[0;32m      9\u001b[0m         \u001b[39msuper\u001b[39m()\u001b[39m.\u001b[39m\u001b[39m__init__\u001b[39m()\n",
      "\u001b[1;31mNameError\u001b[0m: name 'nn' is not defined"
     ]
    }
   ],
   "source": [
    "# Create PyTorch module\n",
    "\n",
    "# Neural network architecture is defined in the __init__ method\n",
    "# nn.Linear applies an affine transformation to the input (w.T*x + b)\n",
    "class Net(nn.Module):\n",
    "\n",
    "    # Create network layers\n",
    "    def __init__(self):\n",
    "        super().__init__()\n",
    "\n",
    "        # Convolutional layers\n",
    "        # Inputs 1 & 2 represent dimensions of layer\n",
    "        # Input 3 represents dimensio  of convolution kernel\n",
    "        self.conv1 = nn.Conv2d(1, 32, 5, padding=2)\n",
    "        self.conv2 = nn.Conv2d(32, 64, 5, padding=2)\n",
    "\n",
    "        # Create input layer, with 64 neurons and 784 inputs each\n",
    "        self.fc1 = nn.Linear(64*7*7, 128)\n",
    "\n",
    "        # Create layer #2, 64 inputs & 64 outputs\n",
    "        self.fc2 = nn.Linear(128, 10)\n",
    "\n",
    "    def convs(self, x):\n",
    "        x = F.max_pool2d(F.relu(self.conv1(x)), (2, 2))\n",
    "        x = F.max_pool2d(F.relu(self.conv2(x)), (2, 2))\n",
    "\n",
    "        return x\n",
    "\n",
    "    # Computing the output of the network\n",
    "    def forward(self, x):\n",
    "        x = self.convs(x)\n",
    "        x = x.view(-1, 64*7*7)\n",
    "\n",
    "        x = F.relu(self.fc1(x))\n",
    "        x = self.fc2(x)\n",
    "\n",
    "        # Compute the softmax functon of a given input\n",
    "        return F.softmax(x, dim=1)\n",
    "\n",
    "\n",
    "net = Net()\n"
   ]
  },
  {
   "cell_type": "code",
   "execution_count": 14,
   "metadata": {},
   "outputs": [],
   "source": [
    "# Setup the optimiser, setup the error function, compute the gradient with respect to the loss, and train for a number of iterations\n",
    "\n",
    "# Setup optimisation method, stochastic  gradient descent (SGD)\n",
    "optimiser = optim.Adam(net.parameters(), lr=0.001)\n",
    "\n",
    "# Setup number of training epochs\n",
    "Epochs = 3\n",
    "\n",
    "# Iterate over training data\n",
    "for epoch in range(Epochs):\n",
    "    for data in trainset:\n",
    "        X, y = data\n",
    "\n",
    "        # Sets up the gradient stored in each variable of the network to zero\n",
    "        net.zero_grad()\n",
    "\n",
    "        # Compute output using Forward() method\n",
    "        # .view() sets up a 2 dimensional tensor input (a 28 by 28 matrix) to a 1 dimensional one (a 784 vector)\n",
    "        output = net.forward(X)\n",
    "\n",
    "        # Setup loss function\n",
    "        # Network is a classifer thus we use a cross entropy loss function\n",
    "        loss = F.nll_loss(output, y)\n",
    "\n",
    "        # Computes the gradient with respect to the loss function over each parameter  of  the  network\n",
    "        loss.backward()\n",
    "\n",
    "        # Update network parameters\n",
    "        optimiser.step()\n"
   ]
  },
  {
   "cell_type": "code",
   "execution_count": 15,
   "metadata": {},
   "outputs": [
    {
     "name": "stdout",
     "output_type": "stream",
     "text": [
      "accuracy: 0.894\n"
     ]
    }
   ],
   "source": [
    "# Initialise counters\n",
    "correct = 0\n",
    "total = 0\n",
    "\n",
    "# Test the model\n",
    "# .no_grad() methods prevents gradients stored from being updated\n",
    "with torch.no_grad():\n",
    "    for data in testset:\n",
    "        X, y = data\n",
    "        output = net.forward(X)\n",
    "        for idx, i in enumerate(output):\n",
    "            if torch.argmax(i) == y[idx]:\n",
    "                correct += 1\n",
    "            total += 1\n",
    "\n",
    "# Print result\n",
    "print(\"accuracy:\", round(correct/total, 3))\n"
   ]
  }
 ],
 "metadata": {
  "kernelspec": {
   "display_name": "Python 3",
   "language": "python",
   "name": "python3"
  },
  "language_info": {
   "codemirror_mode": {
    "name": "ipython",
    "version": 3
   },
   "file_extension": ".py",
   "mimetype": "text/x-python",
   "name": "python",
   "nbconvert_exporter": "python",
   "pygments_lexer": "ipython3",
   "version": "3.9.13"
  },
  "orig_nbformat": 4
 },
 "nbformat": 4,
 "nbformat_minor": 2
}
